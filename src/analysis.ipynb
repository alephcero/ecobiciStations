{
 "cells": [
  {
   "cell_type": "code",
   "execution_count": 107,
   "metadata": {
    "collapsed": true
   },
   "outputs": [],
   "source": [
    "import pandas as pd\n",
    "import matplotlib.pyplot as plt\n",
    "import geopandas as gpd\n",
    "import seaborn as sns\n",
    "from datetime import datetime\n",
    "%matplotlib inline"
   ]
  },
  {
   "cell_type": "code",
   "execution_count": 108,
   "metadata": {
    "collapsed": false
   },
   "outputs": [
    {
     "data": {
      "text/html": [
       "<div>\n",
       "<table border=\"1\" class=\"dataframe\">\n",
       "  <thead>\n",
       "    <tr style=\"text-align: right;\">\n",
       "      <th></th>\n",
       "      <th>Unnamed: 0</th>\n",
       "      <th>X</th>\n",
       "      <th>Y</th>\n",
       "      <th>NOMBRE</th>\n",
       "      <th>NRO_EST</th>\n",
       "      <th>disponibilidad</th>\n",
       "      <th>fecha</th>\n",
       "    </tr>\n",
       "  </thead>\n",
       "  <tbody>\n",
       "    <tr>\n",
       "      <th>0</th>\n",
       "      <td>0</td>\n",
       "      <td>-58.392452</td>\n",
       "      <td>-34.583133</td>\n",
       "      <td>FACULTAD DE DERECHO</td>\n",
       "      <td>1</td>\n",
       "      <td>3.571429</td>\n",
       "      <td>2017-09-14 10:12:33.769</td>\n",
       "    </tr>\n",
       "    <tr>\n",
       "      <th>1</th>\n",
       "      <td>1</td>\n",
       "      <td>-58.392452</td>\n",
       "      <td>-34.583133</td>\n",
       "      <td>FACULTAD DE DERECHO</td>\n",
       "      <td>1</td>\n",
       "      <td>0.000000</td>\n",
       "      <td>2017-09-14 10:28:14.212</td>\n",
       "    </tr>\n",
       "    <tr>\n",
       "      <th>2</th>\n",
       "      <td>2</td>\n",
       "      <td>-58.392452</td>\n",
       "      <td>-34.583133</td>\n",
       "      <td>FACULTAD DE DERECHO</td>\n",
       "      <td>1</td>\n",
       "      <td>0.000000</td>\n",
       "      <td>2017-09-14 10:43:55.002</td>\n",
       "    </tr>\n",
       "    <tr>\n",
       "      <th>3</th>\n",
       "      <td>3</td>\n",
       "      <td>-58.392452</td>\n",
       "      <td>-34.583133</td>\n",
       "      <td>FACULTAD DE DERECHO</td>\n",
       "      <td>1</td>\n",
       "      <td>0.000000</td>\n",
       "      <td>2017-09-14 10:59:42.339</td>\n",
       "    </tr>\n",
       "    <tr>\n",
       "      <th>4</th>\n",
       "      <td>4</td>\n",
       "      <td>-58.392452</td>\n",
       "      <td>-34.583133</td>\n",
       "      <td>FACULTAD DE DERECHO</td>\n",
       "      <td>1</td>\n",
       "      <td>0.000000</td>\n",
       "      <td>2017-09-14 11:15:33.268</td>\n",
       "    </tr>\n",
       "  </tbody>\n",
       "</table>\n",
       "</div>"
      ],
      "text/plain": [
       "   Unnamed: 0          X          Y               NOMBRE  NRO_EST  \\\n",
       "0           0 -58.392452 -34.583133  FACULTAD DE DERECHO        1   \n",
       "1           1 -58.392452 -34.583133  FACULTAD DE DERECHO        1   \n",
       "2           2 -58.392452 -34.583133  FACULTAD DE DERECHO        1   \n",
       "3           3 -58.392452 -34.583133  FACULTAD DE DERECHO        1   \n",
       "4           4 -58.392452 -34.583133  FACULTAD DE DERECHO        1   \n",
       "\n",
       "   disponibilidad                   fecha  \n",
       "0        3.571429 2017-09-14 10:12:33.769  \n",
       "1        0.000000 2017-09-14 10:28:14.212  \n",
       "2        0.000000 2017-09-14 10:43:55.002  \n",
       "3        0.000000 2017-09-14 10:59:42.339  \n",
       "4        0.000000 2017-09-14 11:15:33.268  "
      ]
     },
     "execution_count": 108,
     "metadata": {},
     "output_type": "execute_result"
    }
   ],
   "source": [
    "data = pd.read_csv('../data/example.csv',parse_dates = [6])\n",
    "data.disponibilidad.fillna(0,inplace=True)\n",
    "data.head()"
   ]
  },
  {
   "cell_type": "code",
   "execution_count": 101,
   "metadata": {
    "collapsed": false
   },
   "outputs": [],
   "source": [
    "data['fecha2'] = data.fecha.map(lambda x: x.hour + x.minute /600.)\n",
    "#data['disp2'] = data.disponibilidad.map(int)"
   ]
  },
  {
   "cell_type": "code",
   "execution_count": 102,
   "metadata": {
    "collapsed": false
   },
   "outputs": [],
   "source": [
    "data['fecha']=[i.strftime('%H:%M') for i in data.fecha]"
   ]
  },
  {
   "cell_type": "code",
   "execution_count": 103,
   "metadata": {
    "collapsed": false
   },
   "outputs": [
    {
     "data": {
      "text/plain": [
       "<matplotlib.axes._subplots.AxesSubplot at 0x7fa30ece9850>"
      ]
     },
     "execution_count": 103,
     "metadata": {},
     "output_type": "execute_result"
    },
    {
     "data": {
      "image/png": "[encoded data removed]",
      "text/plain": [
       "<matplotlib.figure.Figure at 0x7fa30ecf60d0>"
      ]
     },
     "metadata": {},
     "output_type": "display_data"
    }
   ],
   "source": [
    "data.groupby(by='fecha').mean()['disponibilidad'].plot()"
   ]
  },
  {
   "cell_type": "code",
   "execution_count": 105,
   "metadata": {
    "collapsed": false
   },
   "outputs": [
    {
     "data": {
      "image/png": "[encoded data removed]",
      "text/plain": [
       "<matplotlib.figure.Figure at 0x7fa30f6e9e10>"
      ]
     },
     "metadata": {},
     "output_type": "display_data"
    }
   ],
   "source": [
    "ax = sns.tsplot(time=\"fecha2\", value=\"disponibilidad\",\n",
    "                 unit=\"NRO_EST\",\n",
    "                 data=data)"
   ]
  },
  {
   "cell_type": "code",
   "execution_count": null,
   "metadata": {
    "collapsed": true
   },
   "outputs": [],
   "source": []
  }
 ],
 "metadata": {
  "kernelspec": {
   "display_name": "Python 2",
   "language": "python",
   "name": "python2"
  },
  "language_info": {
   "codemirror_mode": {
    "name": "ipython",
    "version": 2
   },
   "file_extension": ".py",
   "mimetype": "text/x-python",
   "name": "python",
   "nbconvert_exporter": "python",
   "pygments_lexer": "ipython2",
   "version": "2.7.13"
  }
 },
 "nbformat": 4,
 "nbformat_minor": 2
}
