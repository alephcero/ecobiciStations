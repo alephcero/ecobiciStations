{
 "cells": [
  {
   "cell_type": "code",
   "execution_count": 1,
   "metadata": {
    "collapsed": true
   },
   "outputs": [],
   "source": [
    "import pandas as pd\n",
    "import numpy as np\n",
    "import json\n",
    "import urllib\n",
    "import datetime\n",
    "from time import sleep\n"
   ]
  },
  {
   "cell_type": "code",
   "execution_count": 28,
   "metadata": {},
   "outputs": [],
   "source": [
    "def queryBicipublica2(biciID):\n",
    "    try:\n",
    "        url = 'http://epok.buenosaires.gob.ar/getObjectContent/?id=estaciones_de_bicicletas%7C' + biciID\n",
    "        response = urllib.urlopen(url)\n",
    "        rawData = response.read().decode(\"utf-8\")\n",
    "        parsedData = json.loads(rawData)\n",
    "\n",
    "        bicisDisponibles = int(parsedData['contenido'][3]['valor'])\n",
    "        posicionesDisponibles = int(parsedData['contenido'][4]['valor'])\n",
    "        totales = int(parsedData['contenido'][5]['valor'])\n",
    "    \n",
    "    except:\n",
    "        bicisDisponibles = np.nan\n",
    "        posicionesDisponibles = np.nan\n",
    "        totales = np.nan\n",
    "        \n",
    "    \n",
    "    return {'bicisDisponibles':bicisDisponibles,'posicionesDisponibles':posicionesDisponibles,'totales':totales}"
   ]
  },
  {
   "cell_type": "code",
   "execution_count": 2,
   "metadata": {
    "collapsed": true
   },
   "outputs": [],
   "source": [
    "#cambiar a http://epok.buenosaires.gob.ar/getObjectContent/?id=estaciones_de_bicicletas%7C2\n",
    "#sacar todos los datos y calcular en la base despues\n",
    "\n",
    "def queryBicipublica(biciID, indicador = 'disponibilidad'):\n",
    "    try:\n",
    "        \n",
    "        url = 'http://epok.buenosaires.gob.ar/getObjectContent/?callback=jQuery19108223016225484279_1505305148763&id=estaciones_de_bicicletas%7C' + biciID\n",
    "        response = urllib.urlopen(url)\n",
    "        rawData = response.read().decode(\"utf-8\")\n",
    "        parsedData = json.loads(rawData.split('(',1)[1][:-1])\n",
    "\n",
    "\n",
    "        bicisDisponibles = int(parsedData['contenido'][3]['valor'])\n",
    "        posicionesDisponibles = int(parsedData['contenido'][4]['valor'])\n",
    "        totales = int(parsedData['contenido'][5]['valor'])\n",
    "\n",
    "        rotas = 100 - ((bicisDisponibles + posicionesDisponibles)*1. / totales * 100)\n",
    "        #disponibilidad = bicisDisponibles *1. /  totales * 100\n",
    "        disponibilidad = bicisDisponibles *1. /  (bicisDisponibles + posicionesDisponibles) * 100\n",
    "        if disponibilidad > 100.0:\n",
    "            disponibilidad = 100.0\n",
    "    except:\n",
    "        rotas = np.nan\n",
    "        disponibilidad = np.nan\n",
    "        \n",
    "    \n",
    "    if indicador == 'rotas':\n",
    "        return rotas\n",
    "    elif indicador == 'ambas':\n",
    "        return {'rotas':rotas,'disponibilidad':disponibilidad}\n",
    "    else:\n",
    "        return disponibilidad"
   ]
  },
  {
   "cell_type": "code",
   "execution_count": 3,
   "metadata": {},
   "outputs": [
    {
     "data": {
      "text/html": [
       "<div>\n",
       "<style>\n",
       "    .dataframe thead tr:only-child th {\n",
       "        text-align: right;\n",
       "    }\n",
       "\n",
       "    .dataframe thead th {\n",
       "        text-align: left;\n",
       "    }\n",
       "\n",
       "    .dataframe tbody tr th {\n",
       "        vertical-align: top;\n",
       "    }\n",
       "</style>\n",
       "<table border=\"1\" class=\"dataframe\">\n",
       "  <thead>\n",
       "    <tr style=\"text-align: right;\">\n",
       "      <th></th>\n",
       "      <th>X</th>\n",
       "      <th>Y</th>\n",
       "      <th>NOMBRE</th>\n",
       "      <th>NRO_EST</th>\n",
       "    </tr>\n",
       "  </thead>\n",
       "  <tbody>\n",
       "    <tr>\n",
       "      <th>0</th>\n",
       "      <td>-58.392452</td>\n",
       "      <td>-34.583133</td>\n",
       "      <td>FACULTAD DE DERECHO</td>\n",
       "      <td>01</td>\n",
       "    </tr>\n",
       "    <tr>\n",
       "      <th>1</th>\n",
       "      <td>-58.374822</td>\n",
       "      <td>-34.592589</td>\n",
       "      <td>RETIRO</td>\n",
       "      <td>02</td>\n",
       "    </tr>\n",
       "    <tr>\n",
       "      <th>2</th>\n",
       "      <td>-58.368918</td>\n",
       "      <td>-34.611242</td>\n",
       "      <td>ADUANA</td>\n",
       "      <td>03</td>\n",
       "    </tr>\n",
       "    <tr>\n",
       "      <th>3</th>\n",
       "      <td>-58.368950</td>\n",
       "      <td>-34.601721</td>\n",
       "      <td>PLAZA ROMA</td>\n",
       "      <td>04</td>\n",
       "    </tr>\n",
       "    <tr>\n",
       "      <th>4</th>\n",
       "      <td>-58.369360</td>\n",
       "      <td>-34.627947</td>\n",
       "      <td>PARQUE LEZAMA</td>\n",
       "      <td>06</td>\n",
       "    </tr>\n",
       "  </tbody>\n",
       "</table>\n",
       "</div>"
      ],
      "text/plain": [
       "           X          Y               NOMBRE NRO_EST\n",
       "0 -58.392452 -34.583133  FACULTAD DE DERECHO      01\n",
       "1 -58.374822 -34.592589               RETIRO      02\n",
       "2 -58.368918 -34.611242               ADUANA      03\n",
       "3 -58.368950 -34.601721           PLAZA ROMA      04\n",
       "4 -58.369360 -34.627947        PARQUE LEZAMA      06"
      ]
     },
     "execution_count": 3,
     "metadata": {},
     "output_type": "execute_result"
    }
   ],
   "source": [
    "#base madre\n",
    "geometria = pd.read_csv('../data/estaciones-de-bicicletas-publicas.csv',sep=';')\n",
    "#convertir en texto los id de las estaciones para el query\n",
    "geometria.NRO_EST = ['0' + str(i) if len(str(i)) == 1 else str(i) for i in geometria.NRO_EST]\n",
    "#remover columnas innecesarias\n",
    "geometria = geometria.loc[:,['X','Y','NOMBRE','NRO_EST']]\n",
    "geometria.head()\n",
    "\n"
   ]
  },
  {
   "cell_type": "code",
   "execution_count": null,
   "metadata": {
    "collapsed": true
   },
   "outputs": [],
   "source": [
    "#modulo tiempo NUEVOOOO\n",
    "hora = datetime.datetime.now().hour\n",
    "#poner un dia limite\n",
    "diaLimite = 19\n",
    "\n",
    "fechas = []\n",
    "bicisDisponibles = []\n",
    "posicionesDisponibles = []\n",
    "totales = []\n",
    "biciIDs = []\n",
    "\n",
    "\n",
    "\n",
    "#inicia el loop para cargar data\n",
    "#cambiar hora 10a 0 y hour por day\n",
    "while True:\n",
    "    if datetime.datetime.now().hour == 0:\n",
    "        print 'hora inicio'\n",
    "        #mientras el dia actual sea menor al limite\n",
    "        while datetime.datetime.now().day < diaLimite:\n",
    "            \n",
    "            fecha = datetime.datetime.now()\n",
    "            print 'fecha:',fecha\n",
    "            #inicia el proceso para cada numero de estacion\n",
    "            for biciID in geometria.NRO_EST:\n",
    "                #agrego la id de la bici a la lista\n",
    "                biciIDs.append(biciID)\n",
    "                #creo el diccionario con datos\n",
    "                diccio = queryBicipublica2(biciID)\n",
    "                #extraigo disponibles y total\n",
    "                bicisDisponibles.append(diccio['bicisDisponibles'])\n",
    "                posicionesDisponibles.append(diccio['posicionesDisponibles'])\n",
    "                totales.append(diccio['totales'])\n",
    "                \n",
    "                #agrego fecha\n",
    "                fechas.append(fecha)\n",
    "                \n",
    "            #espera 15 min\n",
    "            print fecha\n",
    "            sleep(60*15)\n",
    "        break\n",
    "    else:\n",
    "        sleep(60)\n",
    "\n",
    "datos = pd.DataFrame({'NRO_EST':biciIDs,\n",
    "                      'fecha':fechas,\n",
    "                      'bicisDisponibles':bicisDisponibles,\n",
    "                      'posicionesDisponibles':posicionesDisponibles,\n",
    "                      'totales':totales\n",
    "                      })"
   ]
  },
  {
   "cell_type": "code",
   "execution_count": null,
   "metadata": {
    "collapsed": true
   },
   "outputs": [],
   "source": [
    "#modulo tiempo\n",
    "hora = datetime.datetime.now().hour\n",
    "#poner un dia limite\n",
    "diaLimite = 19\n",
    "\n",
    "fechas = []\n",
    "disponibilidades = []\n",
    "roturas = []\n",
    "biciIDs = []\n",
    "\n",
    "#inicia el loop para cargar data\n",
    "#cambiar hora 10a 0 y hour por day\n",
    "while True:\n",
    "    if datetime.datetime.now().hour == 0:\n",
    "        print 'hora inicio'\n",
    "        #mientras el dia actual sea menor al limite\n",
    "        while datetime.datetime.now().day < diaLimite:\n",
    "            \n",
    "            fecha = datetime.datetime.now()\n",
    "            print 'fecha:',fecha\n",
    "            #inicia el proceso para cada numero de estacion\n",
    "            for biciID in geometria.NRO_EST:\n",
    "                #agrego la id de la bici a la lista\n",
    "                biciIDs.append(biciID)\n",
    "                #agrego la disponibilidad de la estacion a la lista\n",
    "                disponibilidades.append(queryBicipublica(biciID, indicador = 'disponibilidad'))\n",
    "                #agrego fecha\n",
    "                fechas.append(fecha)\n",
    "                \n",
    "            #espera 15 min\n",
    "            print fecha\n",
    "            sleep(60*15)\n",
    "        break\n",
    "    else:\n",
    "        sleep(60)\n",
    "\n",
    "datos = pd.DataFrame({'NRO_EST':biciIDs,\n",
    "                      'fecha':fechas,\n",
    "                      'disponibilidad':disponibilidades#,\n",
    "                      #'roturas':roturas\n",
    "                      })"
   ]
  },
  {
   "cell_type": "code",
   "execution_count": null,
   "metadata": {
    "collapsed": true
   },
   "outputs": [],
   "source": [
    "print 'datos', datos.shape\n",
    "print 'geometria',geometria.shape"
   ]
  },
  {
   "cell_type": "code",
   "execution_count": null,
   "metadata": {
    "collapsed": true
   },
   "outputs": [],
   "source": [
    "data = geometria.merge(datos)\n",
    "print data.shape\n",
    "data.head()"
   ]
  },
  {
   "cell_type": "code",
   "execution_count": null,
   "metadata": {
    "collapsed": true
   },
   "outputs": [],
   "source": [
    "pwd"
   ]
  },
  {
   "cell_type": "code",
   "execution_count": null,
   "metadata": {
    "collapsed": true
   },
   "outputs": [],
   "source": [
    "data.to_csv('../data/data18sept.csv')"
   ]
  },
  {
   "cell_type": "code",
   "execution_count": null,
   "metadata": {
    "collapsed": true
   },
   "outputs": [],
   "source": [
    "import geopandas as gpd"
   ]
  },
  {
   "cell_type": "code",
   "execution_count": null,
   "metadata": {
    "collapsed": true
   },
   "outputs": [],
   "source": [
    "barrios = gpd.read_file('../data/barrios-rar/barrios_badata.shp')\n",
    "barrios = barrios.to_crs(epsg=4326)\n",
    "barrios.head()"
   ]
  },
  {
   "cell_type": "code",
   "execution_count": null,
   "metadata": {
    "collapsed": true
   },
   "outputs": [],
   "source": [
    "biciShape = gpd.read_file('../data/estaciones-de-bicicletas-rar/estaciones_de_bicicletas.shp')\n",
    "biciShape = biciShape.to_crs(epsg=4326)\n",
    "print biciShape.shape\n",
    "biciShape.head()"
   ]
  },
  {
   "cell_type": "code",
   "execution_count": null,
   "metadata": {
    "collapsed": true
   },
   "outputs": [],
   "source": [
    "bicisConBarrio = gpd.sjoin(biciShape, barrios, how=\"inner\", op='intersects')\n",
    "print bicisConBarrio.shape\n",
    "print bicisConBarrio.BARRIO.isnull().sum()"
   ]
  },
  {
   "cell_type": "code",
   "execution_count": null,
   "metadata": {
    "collapsed": true
   },
   "outputs": [],
   "source": [
    "datos.head()"
   ]
  },
  {
   "cell_type": "code",
   "execution_count": null,
   "metadata": {
    "collapsed": true
   },
   "outputs": [],
   "source": [
    "biciShape.NRO_EST = ['0' + str(i) if len(str(i)) == 1 else str(i) for i in biciShape.NRO_EST]\n"
   ]
  },
  {
   "cell_type": "code",
   "execution_count": null,
   "metadata": {
    "collapsed": true
   },
   "outputs": [],
   "source": [
    "biciShape = biciShape.merge(datos)\n",
    "biciShape.shape"
   ]
  },
  {
   "cell_type": "code",
   "execution_count": null,
   "metadata": {
    "collapsed": true
   },
   "outputs": [],
   "source": [
    "biciShape.fecha = biciShape.fecha.map(str)"
   ]
  },
  {
   "cell_type": "code",
   "execution_count": null,
   "metadata": {
    "collapsed": true
   },
   "outputs": [],
   "source": [
    "biciShape.to_file('../data/18septiembre')"
   ]
  },
  {
   "cell_type": "code",
   "execution_count": null,
   "metadata": {
    "collapsed": true
   },
   "outputs": [],
   "source": []
  }
 ],
 "metadata": {
  "kernelspec": {
   "display_name": "Python 2",
   "language": "python",
   "name": "python2"
  },
  "language_info": {
   "codemirror_mode": {
    "name": "ipython",
    "version": 2
   },
   "file_extension": ".py",
   "mimetype": "text/x-python",
   "name": "python",
   "nbconvert_exporter": "python",
   "pygments_lexer": "ipython2",
   "version": "2.7.13"
  }
 },
 "nbformat": 4,
 "nbformat_minor": 2
}
