{
 "cells": [
  {
   "cell_type": "code",
   "execution_count": 1,
   "metadata": {
    "collapsed": true
   },
   "outputs": [],
   "source": [
    "import pandas as pd\n",
    "import numpy as np\n",
    "import json\n",
    "import urllib\n",
    "import datetime\n",
    "from time import sleep\n"
   ]
  },
  {
   "cell_type": "code",
   "execution_count": 2,
   "metadata": {
    "collapsed": true
   },
   "outputs": [],
   "source": [
    "def queryBicipublica(biciID, indicador = 'disponibilidad'):\n",
    "    try:\n",
    "        url = 'http://epok.buenosaires.gob.ar/getObjectContent/?callback=jQuery19108223016225484279_1505305148763&id=estaciones_de_bicicletas%7C' + biciID\n",
    "        response = urllib.urlopen(url)\n",
    "        rawData = response.read().decode(\"utf-8\")\n",
    "        parsedData = json.loads(rawData.split('(',1)[1][:-1])\n",
    "\n",
    "\n",
    "        bicisDisponibles = int(parsedData['contenido'][3]['valor'])\n",
    "        posicionesDisponibles = int(parsedData['contenido'][4]['valor'])\n",
    "        totales = int(parsedData['contenido'][5]['valor'])\n",
    "\n",
    "        rotas = 100 - ((bicisDisponibles + posicionesDisponibles)*1. / totales * 100)\n",
    "        #disponibilidad = bicisDisponibles *1. /  totales * 100\n",
    "        disponibilidad = bicisDisponibles *1. /  (bicisDisponibles + posicionesDisponibles) * 100\n",
    "        if disponibilidad > 100.0:\n",
    "            disponibilidad = 100.0\n",
    "    except:\n",
    "        rotas = np.nan\n",
    "        disponibilidad = np.nan\n",
    "        \n",
    "    \n",
    "    if indicador == 'rotas':\n",
    "        return rotas\n",
    "    elif indicador == 'ambas':\n",
    "        return {'rotas':rotas,'disponibilidad':disponibilidad}\n",
    "    else:\n",
    "        return disponibilidad"
   ]
  },
  {
   "cell_type": "code",
   "execution_count": 3,
   "metadata": {
    "collapsed": false
   },
   "outputs": [
    {
     "data": {
      "text/html": [
       "<div>\n",
       "<table border=\"1\" class=\"dataframe\">\n",
       "  <thead>\n",
       "    <tr style=\"text-align: right;\">\n",
       "      <th></th>\n",
       "      <th>X</th>\n",
       "      <th>Y</th>\n",
       "      <th>NOMBRE</th>\n",
       "      <th>NRO_EST</th>\n",
       "    </tr>\n",
       "  </thead>\n",
       "  <tbody>\n",
       "    <tr>\n",
       "      <th>0</th>\n",
       "      <td>-58.392452</td>\n",
       "      <td>-34.583133</td>\n",
       "      <td>FACULTAD DE DERECHO</td>\n",
       "      <td>01</td>\n",
       "    </tr>\n",
       "    <tr>\n",
       "      <th>1</th>\n",
       "      <td>-58.374822</td>\n",
       "      <td>-34.592589</td>\n",
       "      <td>RETIRO</td>\n",
       "      <td>02</td>\n",
       "    </tr>\n",
       "    <tr>\n",
       "      <th>2</th>\n",
       "      <td>-58.368918</td>\n",
       "      <td>-34.611242</td>\n",
       "      <td>ADUANA</td>\n",
       "      <td>03</td>\n",
       "    </tr>\n",
       "    <tr>\n",
       "      <th>3</th>\n",
       "      <td>-58.368950</td>\n",
       "      <td>-34.601721</td>\n",
       "      <td>PLAZA ROMA</td>\n",
       "      <td>04</td>\n",
       "    </tr>\n",
       "    <tr>\n",
       "      <th>4</th>\n",
       "      <td>-58.369360</td>\n",
       "      <td>-34.627947</td>\n",
       "      <td>PARQUE LEZAMA</td>\n",
       "      <td>06</td>\n",
       "    </tr>\n",
       "  </tbody>\n",
       "</table>\n",
       "</div>"
      ],
      "text/plain": [
       "           X          Y               NOMBRE NRO_EST\n",
       "0 -58.392452 -34.583133  FACULTAD DE DERECHO      01\n",
       "1 -58.374822 -34.592589               RETIRO      02\n",
       "2 -58.368918 -34.611242               ADUANA      03\n",
       "3 -58.368950 -34.601721           PLAZA ROMA      04\n",
       "4 -58.369360 -34.627947        PARQUE LEZAMA      06"
      ]
     },
     "execution_count": 3,
     "metadata": {},
     "output_type": "execute_result"
    }
   ],
   "source": [
    "#base madre\n",
    "geometria = pd.read_csv('../data/estaciones-de-bicicletas-publicas.csv',sep=';')\n",
    "#convertir en texto los id de las estaciones para el query\n",
    "geometria.NRO_EST = ['0' + str(i) if len(str(i)) == 1 else str(i) for i in geometria.NRO_EST]\n",
    "#remover columnas innecesarias\n",
    "geometria = geometria.loc[:,['X','Y','NOMBRE','NRO_EST']]\n",
    "geometria.head()\n",
    "\n"
   ]
  },
  {
   "cell_type": "code",
   "execution_count": 4,
   "metadata": {
    "collapsed": false
   },
   "outputs": [
    {
     "data": {
      "text/plain": [
       "0"
      ]
     },
     "execution_count": 4,
     "metadata": {},
     "output_type": "execute_result"
    }
   ],
   "source": [
    "datetime.datetime.now().hour"
   ]
  },
  {
   "cell_type": "code",
   "execution_count": 5,
   "metadata": {
    "collapsed": false
   },
   "outputs": [
    {
     "name": "stdout",
     "output_type": "stream",
     "text": [
      "hora inicio\n",
      "fecha: 2017-09-18 00:12:24.031035\n",
      "2017-09-18 00:12:24.031035\n",
      "fecha: 2017-09-18 00:28:17.550805\n",
      "2017-09-18 00:28:17.550805\n",
      "fecha: 2017-09-18 00:43:59.205273\n",
      "2017-09-18 00:43:59.205273\n",
      "fecha: 2017-09-18 00:59:59.354992\n",
      "2017-09-18 00:59:59.354992\n",
      "fecha: 2017-09-18 01:15:54.219349\n",
      "2017-09-18 01:15:54.219349\n",
      "fecha: 2017-09-18 01:31:41.586183\n",
      "2017-09-18 01:31:41.586183\n",
      "fecha: 2017-09-18 01:47:29.306740\n",
      "2017-09-18 01:47:29.306740\n",
      "fecha: 2017-09-18 02:03:15.045305\n",
      "2017-09-18 02:03:15.045305\n",
      "fecha: 2017-09-18 02:18:56.421359\n",
      "2017-09-18 02:18:56.421359\n",
      "fecha: 2017-09-18 02:34:39.379037\n",
      "2017-09-18 02:34:39.379037\n",
      "fecha: 2017-09-18 02:50:21.210440\n",
      "2017-09-18 02:50:21.210440\n",
      "fecha: 2017-09-18 03:06:13.053771\n",
      "2017-09-18 03:06:13.053771\n",
      "fecha: 2017-09-18 03:21:56.385177\n",
      "2017-09-18 03:21:56.385177\n",
      "fecha: 2017-09-18 03:37:39.429330\n",
      "2017-09-18 03:37:39.429330\n",
      "fecha: 2017-09-18 03:53:22.582158\n",
      "2017-09-18 03:53:22.582158\n",
      "fecha: 2017-09-18 04:09:08.558377\n",
      "2017-09-18 04:09:08.558377\n",
      "fecha: 2017-09-18 04:24:51.446722\n",
      "2017-09-18 04:24:51.446722\n",
      "fecha: 2017-09-18 04:40:33.933322\n",
      "2017-09-18 04:40:33.933322\n",
      "fecha: 2017-09-18 04:56:15.025998\n",
      "2017-09-18 04:56:15.025998\n",
      "fecha: 2017-09-18 05:11:57.537956\n",
      "2017-09-18 05:11:57.537956\n",
      "fecha: 2017-09-18 05:27:40.620057\n",
      "2017-09-18 05:27:40.620057\n",
      "fecha: 2017-09-18 05:43:25.772364\n",
      "2017-09-18 05:43:25.772364\n",
      "fecha: 2017-09-18 05:59:06.602627\n",
      "2017-09-18 05:59:06.602627\n",
      "fecha: 2017-09-18 06:14:49.158297\n",
      "2017-09-18 06:14:49.158297\n",
      "fecha: 2017-09-18 06:30:33.577671\n",
      "2017-09-18 06:30:33.577671\n",
      "fecha: 2017-09-18 06:46:14.463000\n",
      "2017-09-18 06:46:14.463000\n",
      "fecha: 2017-09-18 07:01:56.069903\n",
      "2017-09-18 07:01:56.069903\n",
      "fecha: 2017-09-18 07:17:42.784128\n",
      "2017-09-18 07:17:42.784128\n",
      "fecha: 2017-09-18 07:33:28.583454\n",
      "2017-09-18 07:33:28.583454\n",
      "fecha: 2017-09-18 07:49:12.226697\n",
      "2017-09-18 07:49:12.226697\n",
      "fecha: 2017-09-18 08:04:57.940844\n",
      "2017-09-18 08:04:57.940844\n",
      "fecha: 2017-09-18 08:20:45.797286\n",
      "2017-09-18 08:20:45.797286\n",
      "fecha: 2017-09-18 08:36:39.405662\n",
      "2017-09-18 08:36:39.405662\n",
      "fecha: 2017-09-18 08:52:31.912118\n",
      "2017-09-18 08:52:31.912118\n",
      "fecha: 2017-09-18 09:08:21.048620\n",
      "2017-09-18 09:08:21.048620\n",
      "fecha: 2017-09-18 09:24:10.882792\n",
      "2017-09-18 09:24:10.882792\n",
      "fecha: 2017-09-18 09:40:08.147639\n",
      "2017-09-18 09:40:08.147639\n",
      "fecha: 2017-09-18 09:56:08.347993\n",
      "2017-09-18 09:56:08.347993\n",
      "fecha: 2017-09-18 10:12:13.676826\n",
      "2017-09-18 10:12:13.676826\n",
      "fecha: 2017-09-18 10:28:24.423554\n",
      "2017-09-18 10:28:24.423554\n",
      "fecha: 2017-09-18 10:44:23.708359\n",
      "2017-09-18 10:44:23.708359\n",
      "fecha: 2017-09-18 11:00:50.661318\n",
      "2017-09-18 11:00:50.661318\n",
      "fecha: 2017-09-18 11:16:58.023751\n",
      "2017-09-18 11:16:58.023751\n",
      "fecha: 2017-09-18 11:33:18.447281\n",
      "2017-09-18 11:33:18.447281\n",
      "fecha: 2017-09-18 11:49:30.803040\n",
      "2017-09-18 11:49:30.803040\n",
      "fecha: 2017-09-18 12:05:37.644427\n",
      "2017-09-18 12:05:37.644427\n",
      "fecha: 2017-09-18 12:22:00.178769\n",
      "2017-09-18 12:22:00.178769\n",
      "fecha: 2017-09-18 12:38:03.371829\n",
      "2017-09-18 12:38:03.371829\n",
      "fecha: 2017-09-18 12:54:09.490666\n",
      "2017-09-18 12:54:09.490666\n",
      "fecha: 2017-09-18 13:10:20.761822\n",
      "2017-09-18 13:10:20.761822\n",
      "fecha: 2017-09-18 13:26:52.253218\n",
      "2017-09-18 13:26:52.253218\n",
      "fecha: 2017-09-18 13:43:15.469493\n",
      "2017-09-18 13:43:15.469493\n",
      "fecha: 2017-09-18 13:59:54.009952\n",
      "2017-09-18 13:59:54.009952\n",
      "fecha: 2017-09-18 14:16:04.153236\n",
      "2017-09-18 14:16:04.153236\n",
      "fecha: 2017-09-18 14:32:50.176748\n",
      "2017-09-18 14:32:50.176748\n",
      "fecha: 2017-09-18 14:48:58.500792\n",
      "2017-09-18 14:48:58.500792\n",
      "fecha: 2017-09-18 15:05:09.653266\n",
      "2017-09-18 15:05:09.653266\n",
      "fecha: 2017-09-18 15:21:25.326810\n",
      "2017-09-18 15:21:25.326810\n",
      "fecha: 2017-09-18 15:37:55.427705\n",
      "2017-09-18 15:37:55.427705\n",
      "fecha: 2017-09-18 15:54:21.949000\n",
      "2017-09-18 15:54:21.949000\n",
      "fecha: 2017-09-18 16:10:39.746123\n",
      "2017-09-18 16:10:39.746123\n",
      "fecha: 2017-09-18 16:27:14.869071\n",
      "2017-09-18 16:27:14.869071\n",
      "fecha: 2017-09-18 16:43:39.027932\n",
      "2017-09-18 16:43:39.027932\n",
      "fecha: 2017-09-18 16:59:54.866826\n",
      "2017-09-18 16:59:54.866826\n",
      "fecha: 2017-09-18 17:16:33.101035\n",
      "2017-09-18 17:16:33.101035\n",
      "fecha: 2017-09-18 17:32:50.475380\n",
      "2017-09-18 17:32:50.475380\n",
      "fecha: 2017-09-18 17:49:24.775103\n",
      "2017-09-18 17:49:24.775103\n",
      "fecha: 2017-09-18 18:05:54.993257\n",
      "2017-09-18 18:05:54.993257\n",
      "fecha: 2017-09-18 18:22:26.661247\n",
      "2017-09-18 18:22:26.661247\n",
      "fecha: 2017-09-18 18:39:00.757662\n",
      "2017-09-18 18:39:00.757662\n",
      "fecha: 2017-09-18 18:55:38.810687\n",
      "2017-09-18 18:55:38.810687\n",
      "fecha: 2017-09-18 19:11:41.518256\n",
      "2017-09-18 19:11:41.518256\n",
      "fecha: 2017-09-18 19:28:53.093335\n",
      "2017-09-18 19:28:53.093335\n",
      "fecha: 2017-09-18 19:47:45.285218\n",
      "2017-09-18 19:47:45.285218\n",
      "fecha: 2017-09-18 20:07:45.085696\n",
      "2017-09-18 20:07:45.085696\n",
      "fecha: 2017-09-18 20:29:59.957338\n",
      "2017-09-18 20:29:59.957338\n",
      "fecha: 2017-09-18 20:51:46.424499\n",
      "2017-09-18 20:51:46.424499\n",
      "fecha: 2017-09-18 21:13:50.145708\n",
      "2017-09-18 21:13:50.145708\n",
      "fecha: 2017-09-18 21:34:36.814023\n",
      "2017-09-18 21:34:36.814023\n",
      "fecha: 2017-09-18 21:57:02.062573\n",
      "2017-09-18 21:57:02.062573\n",
      "fecha: 2017-09-18 22:20:26.269271\n",
      "2017-09-18 22:20:26.269271\n",
      "fecha: 2017-09-18 22:43:14.726933\n",
      "2017-09-18 22:43:14.726933\n",
      "fecha: 2017-09-18 23:05:09.955116\n",
      "2017-09-18 23:05:09.955116\n",
      "fecha: 2017-09-18 23:25:43.054814\n",
      "2017-09-18 23:25:43.054814\n",
      "fecha: 2017-09-18 23:42:36.262321\n",
      "2017-09-18 23:42:36.262321\n",
      "fecha: 2017-09-18 23:59:04.953589\n",
      "2017-09-18 23:59:04.953589\n"
     ]
    }
   ],
   "source": [
    "#modulo tiempo\n",
    "hora = datetime.datetime.now().hour\n",
    "#poner un dia limite\n",
    "diaLimite = 19\n",
    "\n",
    "fechas = []\n",
    "disponibilidades = []\n",
    "roturas = []\n",
    "biciIDs = []\n",
    "\n",
    "#inicia el loop para cargar data\n",
    "#cambiar hora 10a 0 y hour por day\n",
    "while True:\n",
    "    if datetime.datetime.now().hour == 0:\n",
    "        print 'hora inicio'\n",
    "        #mientras el dia actual sea menor al limite\n",
    "        while datetime.datetime.now().day < diaLimite:\n",
    "            \n",
    "            fecha = datetime.datetime.now()\n",
    "            print 'fecha:',fecha\n",
    "            #inicia el proceso para cada numero de estacion\n",
    "            for biciID in geometria.NRO_EST:\n",
    "                #agrego la id de la bici a la lista\n",
    "                biciIDs.append(biciID)\n",
    "                #agrego la disponibilidad de la estacion a la lista\n",
    "                disponibilidades.append(queryBicipublica(biciID, indicador = 'disponibilidad'))\n",
    "                #agrego fecha\n",
    "                fechas.append(fecha)\n",
    "                \n",
    "            #espera 15 min\n",
    "            print fecha\n",
    "            sleep(60*15)\n",
    "        break\n",
    "    else:\n",
    "        sleep(60)\n",
    "\n",
    "datos = pd.DataFrame({'NRO_EST':biciIDs,\n",
    "                      'fecha':fechas,\n",
    "                      'disponibilidad':disponibilidades#,\n",
    "                      #'roturas':roturas\n",
    "                      })"
   ]
  },
  {
   "cell_type": "code",
   "execution_count": 6,
   "metadata": {
    "collapsed": false
   },
   "outputs": [
    {
     "name": "stdout",
     "output_type": "stream",
     "text": [
      "datos (16856, 3)\n",
      "geometria (196, 4)\n"
     ]
    }
   ],
   "source": [
    "print 'datos', datos.shape\n",
    "print 'geometria',geometria.shape"
   ]
  },
  {
   "cell_type": "code",
   "execution_count": 7,
   "metadata": {
    "collapsed": false
   },
   "outputs": [
    {
     "name": "stdout",
     "output_type": "stream",
     "text": [
      "(16856, 6)\n"
     ]
    },
    {
     "data": {
      "text/html": [
       "<div>\n",
       "<table border=\"1\" class=\"dataframe\">\n",
       "  <thead>\n",
       "    <tr style=\"text-align: right;\">\n",
       "      <th></th>\n",
       "      <th>X</th>\n",
       "      <th>Y</th>\n",
       "      <th>NOMBRE</th>\n",
       "      <th>NRO_EST</th>\n",
       "      <th>disponibilidad</th>\n",
       "      <th>fecha</th>\n",
       "    </tr>\n",
       "  </thead>\n",
       "  <tbody>\n",
       "    <tr>\n",
       "      <th>0</th>\n",
       "      <td>-58.392452</td>\n",
       "      <td>-34.583133</td>\n",
       "      <td>FACULTAD DE DERECHO</td>\n",
       "      <td>01</td>\n",
       "      <td>0.0</td>\n",
       "      <td>2017-09-18 00:12:24.031035</td>\n",
       "    </tr>\n",
       "    <tr>\n",
       "      <th>1</th>\n",
       "      <td>-58.392452</td>\n",
       "      <td>-34.583133</td>\n",
       "      <td>FACULTAD DE DERECHO</td>\n",
       "      <td>01</td>\n",
       "      <td>0.0</td>\n",
       "      <td>2017-09-18 00:28:17.550805</td>\n",
       "    </tr>\n",
       "    <tr>\n",
       "      <th>2</th>\n",
       "      <td>-58.392452</td>\n",
       "      <td>-34.583133</td>\n",
       "      <td>FACULTAD DE DERECHO</td>\n",
       "      <td>01</td>\n",
       "      <td>0.0</td>\n",
       "      <td>2017-09-18 00:43:59.205273</td>\n",
       "    </tr>\n",
       "    <tr>\n",
       "      <th>3</th>\n",
       "      <td>-58.392452</td>\n",
       "      <td>-34.583133</td>\n",
       "      <td>FACULTAD DE DERECHO</td>\n",
       "      <td>01</td>\n",
       "      <td>0.0</td>\n",
       "      <td>2017-09-18 00:59:59.354992</td>\n",
       "    </tr>\n",
       "    <tr>\n",
       "      <th>4</th>\n",
       "      <td>-58.392452</td>\n",
       "      <td>-34.583133</td>\n",
       "      <td>FACULTAD DE DERECHO</td>\n",
       "      <td>01</td>\n",
       "      <td>0.0</td>\n",
       "      <td>2017-09-18 01:15:54.219349</td>\n",
       "    </tr>\n",
       "  </tbody>\n",
       "</table>\n",
       "</div>"
      ],
      "text/plain": [
       "           X          Y               NOMBRE NRO_EST  disponibilidad  \\\n",
       "0 -58.392452 -34.583133  FACULTAD DE DERECHO      01             0.0   \n",
       "1 -58.392452 -34.583133  FACULTAD DE DERECHO      01             0.0   \n",
       "2 -58.392452 -34.583133  FACULTAD DE DERECHO      01             0.0   \n",
       "3 -58.392452 -34.583133  FACULTAD DE DERECHO      01             0.0   \n",
       "4 -58.392452 -34.583133  FACULTAD DE DERECHO      01             0.0   \n",
       "\n",
       "                       fecha  \n",
       "0 2017-09-18 00:12:24.031035  \n",
       "1 2017-09-18 00:28:17.550805  \n",
       "2 2017-09-18 00:43:59.205273  \n",
       "3 2017-09-18 00:59:59.354992  \n",
       "4 2017-09-18 01:15:54.219349  "
      ]
     },
     "execution_count": 7,
     "metadata": {},
     "output_type": "execute_result"
    }
   ],
   "source": [
    "data = geometria.merge(datos)\n",
    "print data.shape\n",
    "data.head()"
   ]
  },
  {
   "cell_type": "code",
   "execution_count": 9,
   "metadata": {
    "collapsed": false
   },
   "outputs": [
    {
     "data": {
      "text/plain": [
       "u'/home/pipe/projects/ecobiciStations/src'"
      ]
     },
     "execution_count": 9,
     "metadata": {},
     "output_type": "execute_result"
    }
   ],
   "source": [
    "pwd"
   ]
  },
  {
   "cell_type": "code",
   "execution_count": 10,
   "metadata": {
    "collapsed": false
   },
   "outputs": [],
   "source": [
    "data.to_csv('../data/data18sept.csv')"
   ]
  },
  {
   "cell_type": "code",
   "execution_count": 11,
   "metadata": {
    "collapsed": true
   },
   "outputs": [],
   "source": [
    "import geopandas as gpd"
   ]
  },
  {
   "cell_type": "code",
   "execution_count": 15,
   "metadata": {
    "collapsed": false
   },
   "outputs": [
    {
     "data": {
      "text/html": [
       "<div>\n",
       "<table border=\"1\" class=\"dataframe\">\n",
       "  <thead>\n",
       "    <tr style=\"text-align: right;\">\n",
       "      <th></th>\n",
       "      <th>AREA</th>\n",
       "      <th>BARRIO</th>\n",
       "      <th>COMUNA</th>\n",
       "      <th>PERIMETRO</th>\n",
       "      <th>geometry</th>\n",
       "    </tr>\n",
       "  </thead>\n",
       "  <tbody>\n",
       "    <tr>\n",
       "      <th>0</th>\n",
       "      <td>3.118101e+06</td>\n",
       "      <td>CHACARITA</td>\n",
       "      <td>15.0</td>\n",
       "      <td>7725.695228</td>\n",
       "      <td>POLYGON ((-58.452220824502 -34.59643594220518,...</td>\n",
       "    </tr>\n",
       "    <tr>\n",
       "      <th>1</th>\n",
       "      <td>2.229829e+06</td>\n",
       "      <td>PATERNAL</td>\n",
       "      <td>15.0</td>\n",
       "      <td>7087.513295</td>\n",
       "      <td>POLYGON ((-58.46497711478177 -34.5970050426002...</td>\n",
       "    </tr>\n",
       "    <tr>\n",
       "      <th>2</th>\n",
       "      <td>3.613584e+06</td>\n",
       "      <td>VILLA CRESPO</td>\n",
       "      <td>15.0</td>\n",
       "      <td>8132.699348</td>\n",
       "      <td>POLYGON ((-58.4231548125714 -34.59827443880985...</td>\n",
       "    </tr>\n",
       "    <tr>\n",
       "      <th>3</th>\n",
       "      <td>3.399596e+06</td>\n",
       "      <td>VILLA DEL PARQUE</td>\n",
       "      <td>11.0</td>\n",
       "      <td>7705.389797</td>\n",
       "      <td>POLYGON ((-58.49400885920002 -34.6153122984289...</td>\n",
       "    </tr>\n",
       "    <tr>\n",
       "      <th>4</th>\n",
       "      <td>4.050752e+06</td>\n",
       "      <td>ALMAGRO</td>\n",
       "      <td>5.0</td>\n",
       "      <td>8537.901368</td>\n",
       "      <td>POLYGON ((-58.41227214621448 -34.6145629260479...</td>\n",
       "    </tr>\n",
       "  </tbody>\n",
       "</table>\n",
       "</div>"
      ],
      "text/plain": [
       "           AREA            BARRIO  COMUNA    PERIMETRO  \\\n",
       "0  3.118101e+06         CHACARITA    15.0  7725.695228   \n",
       "1  2.229829e+06          PATERNAL    15.0  7087.513295   \n",
       "2  3.613584e+06      VILLA CRESPO    15.0  8132.699348   \n",
       "3  3.399596e+06  VILLA DEL PARQUE    11.0  7705.389797   \n",
       "4  4.050752e+06           ALMAGRO     5.0  8537.901368   \n",
       "\n",
       "                                            geometry  \n",
       "0  POLYGON ((-58.452220824502 -34.59643594220518,...  \n",
       "1  POLYGON ((-58.46497711478177 -34.5970050426002...  \n",
       "2  POLYGON ((-58.4231548125714 -34.59827443880985...  \n",
       "3  POLYGON ((-58.49400885920002 -34.6153122984289...  \n",
       "4  POLYGON ((-58.41227214621448 -34.6145629260479...  "
      ]
     },
     "execution_count": 15,
     "metadata": {},
     "output_type": "execute_result"
    }
   ],
   "source": [
    "barrios = gpd.read_file('../data/barrios-rar/barrios_badata.shp')\n",
    "barrios = barrios.to_crs(epsg=4326)\n",
    "barrios.head()"
   ]
  },
  {
   "cell_type": "code",
   "execution_count": null,
   "metadata": {
    "collapsed": true
   },
   "outputs": [],
   "source": []
  },
  {
   "cell_type": "code",
   "execution_count": null,
   "metadata": {
    "collapsed": true
   },
   "outputs": [],
   "source": []
  },
  {
   "cell_type": "code",
   "execution_count": null,
   "metadata": {
    "collapsed": true
   },
   "outputs": [],
   "source": []
  }
 ],
 "metadata": {
  "kernelspec": {
   "display_name": "Python 2",
   "language": "python",
   "name": "python2"
  },
  "language_info": {
   "codemirror_mode": {
    "name": "ipython",
    "version": 2
   },
   "file_extension": ".py",
   "mimetype": "text/x-python",
   "name": "python",
   "nbconvert_exporter": "python",
   "pygments_lexer": "ipython2",
   "version": "2.7.13"
  }
 },
 "nbformat": 4,
 "nbformat_minor": 2
}
