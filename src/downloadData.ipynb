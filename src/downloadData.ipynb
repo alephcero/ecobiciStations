{
 "cells": [
  {
   "cell_type": "code",
   "execution_count": 2,
   "metadata": {
    "collapsed": true
   },
   "outputs": [],
   "source": [
    "import pandas as pd\n",
    "import numpy as np\n",
    "import json\n",
    "import urllib\n",
    "import datetime\n",
    "from time import sleep\n"
   ]
  },
  {
   "cell_type": "code",
   "execution_count": 3,
   "metadata": {
    "collapsed": true
   },
   "outputs": [],
   "source": [
    "def queryBicipublica(biciID, indicador = 'disponibilidad'):\n",
    "    try:\n",
    "        url = 'http://epok.buenosaires.gob.ar/getObjectContent/?callback=jQuery19108223016225484279_1505305148763&id=estaciones_de_bicicletas%7C' + biciID\n",
    "        response = urllib.urlopen(url)\n",
    "        rawData = response.read().decode(\"utf-8\")\n",
    "        parsedData = json.loads(rawData.split('(',1)[1][:-1])\n",
    "\n",
    "\n",
    "        bicisDisponibles = int(parsedData['contenido'][3]['valor'])\n",
    "        posicionesDisponibles = int(parsedData['contenido'][4]['valor'])\n",
    "        totales = int(parsedData['contenido'][5]['valor'])\n",
    "\n",
    "        rotas = 100 - ((bicisDisponibles + posicionesDisponibles)*1. / totales * 100)\n",
    "        #disponibilidad = bicisDisponibles *1. /  totales * 100\n",
    "        disponibilidad = bicisDisponibles *1. /  (bicisDisponibles + posicionesDisponibles) * 100\n",
    "        if disponibilidad > 100.0:\n",
    "            disponibilidad = 100.0\n",
    "    except:\n",
    "        rotas = np.nan\n",
    "        disponibilidad = np.nan\n",
    "        \n",
    "    \n",
    "    if indicador == 'rotas':\n",
    "        return rotas\n",
    "    elif indicador == 'ambas':\n",
    "        return {'rotas':rotas,'disponibilidad':disponibilidad}\n",
    "    else:\n",
    "        return disponibilidad"
   ]
  },
  {
   "cell_type": "code",
   "execution_count": 4,
   "metadata": {
    "collapsed": false
   },
   "outputs": [
    {
     "data": {
      "text/html": [
       "<div>\n",
       "<table border=\"1\" class=\"dataframe\">\n",
       "  <thead>\n",
       "    <tr style=\"text-align: right;\">\n",
       "      <th></th>\n",
       "      <th>X</th>\n",
       "      <th>Y</th>\n",
       "      <th>NOMBRE</th>\n",
       "      <th>NRO_EST</th>\n",
       "    </tr>\n",
       "  </thead>\n",
       "  <tbody>\n",
       "    <tr>\n",
       "      <th>0</th>\n",
       "      <td>-58.392452</td>\n",
       "      <td>-34.583133</td>\n",
       "      <td>FACULTAD DE DERECHO</td>\n",
       "      <td>01</td>\n",
       "    </tr>\n",
       "    <tr>\n",
       "      <th>1</th>\n",
       "      <td>-58.374822</td>\n",
       "      <td>-34.592589</td>\n",
       "      <td>RETIRO</td>\n",
       "      <td>02</td>\n",
       "    </tr>\n",
       "    <tr>\n",
       "      <th>2</th>\n",
       "      <td>-58.368918</td>\n",
       "      <td>-34.611242</td>\n",
       "      <td>ADUANA</td>\n",
       "      <td>03</td>\n",
       "    </tr>\n",
       "    <tr>\n",
       "      <th>3</th>\n",
       "      <td>-58.368950</td>\n",
       "      <td>-34.601721</td>\n",
       "      <td>PLAZA ROMA</td>\n",
       "      <td>04</td>\n",
       "    </tr>\n",
       "    <tr>\n",
       "      <th>4</th>\n",
       "      <td>-58.369360</td>\n",
       "      <td>-34.627947</td>\n",
       "      <td>PARQUE LEZAMA</td>\n",
       "      <td>06</td>\n",
       "    </tr>\n",
       "  </tbody>\n",
       "</table>\n",
       "</div>"
      ],
      "text/plain": [
       "           X          Y               NOMBRE NRO_EST\n",
       "0 -58.392452 -34.583133  FACULTAD DE DERECHO      01\n",
       "1 -58.374822 -34.592589               RETIRO      02\n",
       "2 -58.368918 -34.611242               ADUANA      03\n",
       "3 -58.368950 -34.601721           PLAZA ROMA      04\n",
       "4 -58.369360 -34.627947        PARQUE LEZAMA      06"
      ]
     },
     "execution_count": 4,
     "metadata": {},
     "output_type": "execute_result"
    }
   ],
   "source": [
    "#base madre\n",
    "geometria = pd.read_csv('../data/estaciones-de-bicicletas-publicas.csv',sep=';')\n",
    "#convertir en texto los id de las estaciones para el query\n",
    "geometria.NRO_EST = ['0' + str(i) if len(str(i)) == 1 else str(i) for i in geometria.NRO_EST]\n",
    "#remover columnas innecesarias\n",
    "geometria = geometria.loc[:,['X','Y','NOMBRE','NRO_EST']]\n",
    "geometria.head()\n",
    "\n"
   ]
  },
  {
   "cell_type": "code",
   "execution_count": 5,
   "metadata": {
    "collapsed": false
   },
   "outputs": [
    {
     "data": {
      "text/plain": [
       "16"
      ]
     },
     "execution_count": 5,
     "metadata": {},
     "output_type": "execute_result"
    }
   ],
   "source": [
    "datetime.datetime.now().hour"
   ]
  },
  {
   "cell_type": "code",
   "execution_count": null,
   "metadata": {
    "collapsed": false
   },
   "outputs": [
    {
     "name": "stdout",
     "output_type": "stream",
     "text": [
      "hora inicio\n",
      "fecha: 2017-09-17 16:59:49.769553\n",
      "2017-09-17 16:59:49.769553\n",
      "fecha: 2017-09-17 17:15:44.086710\n",
      "2017-09-17 17:15:44.086710\n",
      "fecha: 2017-09-17 17:31:32.390390\n",
      "2017-09-17 17:31:32.390390\n",
      "fecha: 2017-09-17 17:48:44.459568\n",
      "2017-09-17 17:48:44.459568\n",
      "fecha: 2017-09-17 18:04:43.585951\n",
      "2017-09-17 18:04:43.585951\n",
      "fecha: 2017-09-17 18:20:38.914081\n",
      "2017-09-17 18:20:38.914081\n",
      "fecha: 2017-09-17 18:36:47.405682\n",
      "2017-09-17 18:36:47.405682\n",
      "fecha: 2017-09-17 18:52:47.695310\n",
      "2017-09-17 18:52:47.695310\n",
      "fecha: 2017-09-17 19:09:09.397228\n",
      "2017-09-17 19:09:09.397228\n",
      "fecha: 2017-09-17 19:25:15.564620\n",
      "2017-09-17 19:25:15.564620\n",
      "fecha: 2017-09-17 19:41:48.711471\n",
      "2017-09-17 19:41:48.711471\n",
      "fecha: 2017-09-17 19:58:24.201069\n",
      "2017-09-17 19:58:24.201069\n",
      "fecha: 2017-09-17 20:14:43.696453\n",
      "2017-09-17 20:14:43.696453\n",
      "fecha: 2017-09-17 20:31:04.645944\n",
      "2017-09-17 20:31:04.645944\n",
      "fecha: 2017-09-17 20:48:22.129693\n",
      "2017-09-17 20:48:22.129693\n",
      "fecha: 2017-09-17 21:04:31.999850\n",
      "2017-09-17 21:04:31.999850\n",
      "fecha: 2017-09-17 21:21:13.898389\n",
      "2017-09-17 21:21:13.898389\n",
      "fecha: 2017-09-17 21:38:54.582494\n",
      "2017-09-17 21:38:54.582494\n",
      "fecha: 2017-09-17 21:57:41.036716\n",
      "2017-09-17 21:57:41.036716\n",
      "fecha: 2017-09-17 22:13:33.505825\n",
      "2017-09-17 22:13:33.505825\n",
      "fecha: 2017-09-17 22:30:59.379236\n",
      "2017-09-17 22:30:59.379236\n",
      "fecha: 2017-09-17 22:49:21.673278\n",
      "2017-09-17 22:49:21.673278\n"
     ]
    }
   ],
   "source": [
    "#modulo tiempo\n",
    "hora = datetime.datetime.now().hour\n",
    "#poner un dia limite\n",
    "diaLimite = 18\n",
    "\n",
    "fechas = []\n",
    "disponibilidades = []\n",
    "roturas = []\n",
    "biciIDs = []\n",
    "\n",
    "#inicia el loop para cargar data\n",
    "#cambiar hora 10a 0 y hour por day\n",
    "while True:\n",
    "    if datetime.datetime.now().hour == 16:\n",
    "        print 'hora inicio'\n",
    "        #mientras el dia actual sea menor al limite\n",
    "        while datetime.datetime.now().day < diaLimite:\n",
    "            \n",
    "            fecha = datetime.datetime.now()\n",
    "            print 'fecha:',fecha\n",
    "            #inicia el proceso para cada numero de estacion\n",
    "            for biciID in geometria.NRO_EST:\n",
    "                #agrego la id de la bici a la lista\n",
    "                biciIDs.append(biciID)\n",
    "                #agrego la disponibilidad de la estacion a la lista\n",
    "                disponibilidades.append(queryBicipublica(biciID, indicador = 'disponibilidad'))\n",
    "                #agrego fecha\n",
    "                fechas.append(fecha)\n",
    "                \n",
    "            #espera 15 min\n",
    "            print fecha\n",
    "            sleep(60*15)\n",
    "        break\n",
    "    else:\n",
    "        sleep(60)\n",
    "\n",
    "datos = pd.DataFrame({'NRO_EST':biciIDs,\n",
    "                      'fecha':fechas,\n",
    "                      'disponibilidad':disponibilidades#,\n",
    "                      #'roturas':roturas\n",
    "                      })"
   ]
  },
  {
   "cell_type": "code",
   "execution_count": null,
   "metadata": {
    "collapsed": false
   },
   "outputs": [],
   "source": [
    "print 'datos', datos.shape\n",
    "print 'geometria',geometria.shape"
   ]
  },
  {
   "cell_type": "code",
   "execution_count": null,
   "metadata": {
    "collapsed": false
   },
   "outputs": [],
   "source": [
    "data = geometria.merge(datos)\n",
    "print data.shape\n",
    "data.head()"
   ]
  },
  {
   "cell_type": "code",
   "execution_count": null,
   "metadata": {
    "collapsed": true
   },
   "outputs": [],
   "source": [
    "data.to_csv('data.csv')"
   ]
  },
  {
   "cell_type": "code",
   "execution_count": null,
   "metadata": {
    "collapsed": true
   },
   "outputs": [],
   "source": []
  },
  {
   "cell_type": "code",
   "execution_count": null,
   "metadata": {
    "collapsed": true
   },
   "outputs": [],
   "source": []
  },
  {
   "cell_type": "code",
   "execution_count": null,
   "metadata": {
    "collapsed": true
   },
   "outputs": [],
   "source": []
  },
  {
   "cell_type": "code",
   "execution_count": null,
   "metadata": {
    "collapsed": true
   },
   "outputs": [],
   "source": []
  },
  {
   "cell_type": "code",
   "execution_count": null,
   "metadata": {
    "collapsed": true
   },
   "outputs": [],
   "source": []
  }
 ],
 "metadata": {
  "kernelspec": {
   "display_name": "Python 2",
   "language": "python",
   "name": "python2"
  },
  "language_info": {
   "codemirror_mode": {
    "name": "ipython",
    "version": 2
   },
   "file_extension": ".py",
   "mimetype": "text/x-python",
   "name": "python",
   "nbconvert_exporter": "python",
   "pygments_lexer": "ipython2",
   "version": "2.7.13"
  }
 },
 "nbformat": 4,
 "nbformat_minor": 2
}
