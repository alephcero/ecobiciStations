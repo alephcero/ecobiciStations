{
 "cells": [
  {
   "cell_type": "code",
   "execution_count": 1,
   "metadata": {
    "collapsed": true
   },
   "outputs": [],
   "source": [
    "import pandas as pd\n",
    "import numpy as np\n",
    "import json\n",
    "import urllib\n",
    "import datetime\n",
    "from time import sleep\n",
    "import geopandas as gpd"
   ]
  },
  {
   "cell_type": "code",
   "execution_count": 2,
   "metadata": {
    "collapsed": true
   },
   "outputs": [],
   "source": [
    "def queryBicipublica(biciID):\n",
    "    try:\n",
    "        url = 'http://epok.buenosaires.gob.ar/getObjectContent/?id=estaciones_de_bicicletas%7C' + str(biciID)\n",
    "        response = urllib.urlopen(url)\n",
    "        rawData = response.read().decode(\"utf-8\")\n",
    "        parsedData = json.loads(rawData)\n",
    "\n",
    "        bicisDisponibles = int(parsedData['contenido'][3]['valor'])\n",
    "        posicionesDisponibles = int(parsedData['contenido'][4]['valor'])\n",
    "        totales = int(parsedData['contenido'][5]['valor'])\n",
    "    \n",
    "    except:\n",
    "        bicisDisponibles = np.nan\n",
    "        posicionesDisponibles = np.nan\n",
    "        totales = np.nan\n",
    "        \n",
    "    \n",
    "    return {'bicisDisponibles':bicisDisponibles,'posicionesDisponibles':posicionesDisponibles,'totales':totales}"
   ]
  },
  {
   "cell_type": "code",
   "execution_count": 43,
   "metadata": {
    "collapsed": false
   },
   "outputs": [],
   "source": [
    "#base madre\n",
    "geometria = gpd.read_file('../data/estaciones-de-bicicletas-rar/estaciones_de_bicicletas.shp')\n",
    "barrios = gpd.read_file('../data/barrios-rar/barrios_badata.shp')\n",
    "barrios = barrios.to_crs(epsg=4326)\n",
    "geometria = geometria.to_crs(epsg=4326)\n",
    "\n",
    "geometria = gpd.sjoin(geometria, barrios, how=\"left\", op='intersects')\n",
    "\n",
    "\n"
   ]
  },
  {
   "cell_type": "code",
   "execution_count": 5,
   "metadata": {
    "collapsed": false
   },
   "outputs": [
    {
     "name": "stdout",
     "output_type": "stream",
     "text": [
      "fecha: 2017-09-27 09:26:57.659011\n",
      "2017-09-27 09:26:57.659011\n",
      "fecha: 2017-09-27 09:29:44.677115\n",
      "2017-09-27 09:29:44.677115\n"
     ]
    }
   ],
   "source": [
    "#poner un dia limite\n",
    "diaLimite = 2\n",
    "\n",
    "fechas = []\n",
    "bicisDisponibles = []\n",
    "posicionesDisponibles = []\n",
    "totales = []\n",
    "biciIDs = []\n",
    "\n",
    "\n",
    "\n",
    "#inicia el loop para cargar data\n",
    "#cambiar hora 10a 0 y hour por day\n",
    "while True:\n",
    "    if datetime.datetime.now().hour == 9:\n",
    "        \n",
    "        #mientras el dia actual sea menor al limite\n",
    "        while datetime.datetime.now().minute < 30:\n",
    "            \n",
    "            fecha = datetime.datetime.now()\n",
    "            print 'fecha:',fecha\n",
    "            #inicia el proceso para cada numero de estacion\n",
    "            for biciID in geometria.NRO_EST:\n",
    "                #agrego la id de la bici a la lista\n",
    "                biciIDs.append(biciID)\n",
    "                #creo el diccionario con datos\n",
    "                diccio = queryBicipublica(biciID)\n",
    "                #extraigo disponibles y total\n",
    "                bicisDisponibles.append(diccio['bicisDisponibles'])\n",
    "                posicionesDisponibles.append(diccio['posicionesDisponibles'])\n",
    "                totales.append(diccio['totales'])\n",
    "                \n",
    "                #agrego fecha\n",
    "                fechas.append(fecha)\n",
    "                \n",
    "            #espera 15 min\n",
    "            print fecha\n",
    "            #sleep(60*15)\n",
    "            sleep(60)\n",
    "        break\n",
    "    else:\n",
    "        sleep(60)\n",
    "\n",
    "datos = pd.DataFrame({'NRO_EST':biciIDs,\n",
    "                      'fecha':fechas,\n",
    "                      'bicisDisponibles':bicisDisponibles,\n",
    "                      'posicionesDisponibles':posicionesDisponibles,\n",
    "                      'totales':totales\n",
    "                      })"
   ]
  },
  {
   "cell_type": "code",
   "execution_count": 44,
   "metadata": {
    "collapsed": false
   },
   "outputs": [],
   "source": [
    "geometria = geometria.merge(datos,how='left',on='NRO_EST')"
   ]
  },
  {
   "cell_type": "code",
   "execution_count": 45,
   "metadata": {
    "collapsed": false
   },
   "outputs": [
    {
     "name": "stderr",
     "output_type": "stream",
     "text": [
      "/home/pipe/anaconda2/lib/python2.7/site-packages/ipykernel/__main__.py:4: SettingWithCopyWarning: \n",
      "A value is trying to be set on a copy of a slice from a DataFrame\n",
      "\n",
      "See the caveats in the documentation: http://pandas.pydata.org/pandas-docs/stable/indexing.html#indexing-view-versus-copy\n"
     ]
    }
   ],
   "source": [
    "#reemplazo\n",
    "geometria.bicisDisponibles.fillna(-0.001,inplace=True)\n",
    "geometria['disponibilidad'] = geometria.bicisDisponibles / geometria.totales *100\n",
    "geometria['disponibilidad'][geometria['disponibilidad']>100] = 100.\n",
    "geometria.disponibilidad.fillna(-0.001,inplace=True)\n"
   ]
  },
  {
   "cell_type": "code",
   "execution_count": 46,
   "metadata": {
    "collapsed": true
   },
   "outputs": [],
   "source": [
    "geometria.fecha = geometria.fecha.map(str)\n",
    "geometria.to_file('../data/test')"
   ]
  },
  {
   "cell_type": "code",
   "execution_count": null,
   "metadata": {
    "collapsed": true
   },
   "outputs": [],
   "source": []
  }
 ],
 "metadata": {
  "kernelspec": {
   "display_name": "Python 2",
   "language": "python",
   "name": "python2"
  },
  "language_info": {
   "codemirror_mode": {
    "name": "ipython",
    "version": 2
   },
   "file_extension": ".py",
   "mimetype": "text/x-python",
   "name": "python",
   "nbconvert_exporter": "python",
   "pygments_lexer": "ipython2",
   "version": "2.7.13"
  }
 },
 "nbformat": 4,
 "nbformat_minor": 2
}
